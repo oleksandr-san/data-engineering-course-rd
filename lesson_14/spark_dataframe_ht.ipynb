{
 "cells": [
  {
   "cell_type": "code",
   "execution_count": 1,
   "metadata": {
    "collapsed": true
   },
   "outputs": [],
   "source": [
    "from pyspark.sql import SparkSession, functions as F, types as T"
   ]
  },
  {
   "cell_type": "code",
   "execution_count": 2,
   "metadata": {
    "collapsed": false,
    "pycharm": {
     "is_executing": true
    }
   },
   "outputs": [],
   "source": [
    "spark = SparkSession.builder.master('local[*]').getOrCreate()"
   ]
  },
  {
   "cell_type": "code",
   "execution_count": 3,
   "metadata": {
    "collapsed": false
   },
   "outputs": [
    {
     "name": "stdout",
     "output_type": "stream",
     "text": [
      "3.4.1\n"
     ]
    }
   ],
   "source": [
    "print(spark.version)"
   ]
  },
  {
   "cell_type": "code",
   "execution_count": 4,
   "metadata": {
    "collapsed": false
   },
   "outputs": [],
   "source": [
    "actor_df = spark.read.csv('./data/actor.csv', header=True, inferSchema=True)\n",
    "address_df = spark.read.csv('./data/address.csv', header=True, inferSchema=True)\n",
    "category_df = spark.read.csv('./data/category.csv', header=True, inferSchema=True)\n",
    "city_df = spark.read.csv('./data/city.csv', header=True, inferSchema=True)\n",
    "country_df = spark.read.csv('./data/country.csv', header=True, inferSchema=True)\n",
    "customer_df = spark.read.csv('./data/customer.csv', header=True, inferSchema=True)\n",
    "film_df = spark.read.csv('./data/film.csv', header=True, inferSchema=True)\n",
    "film_actor_df = spark.read.csv('./data/film_actor.csv', header=True, inferSchema=True)\n",
    "film_category_df = spark.read.csv('./data/film_category.csv', header=True, inferSchema=True)\n",
    "inventory_df = spark.read.csv('./data/inventory.csv', header=True, inferSchema=True)\n",
    "language_df = spark.read.csv('./data/language.csv', header=True, inferSchema=True)\n",
    "payment_df = spark.read.csv('./data/payment.csv', header=True, inferSchema=True)\n",
    "rental_df = spark.read.csv('./data/rental.csv', header=True, inferSchema=True)\n",
    "staff_df = spark.read.csv('./data/staff.csv', header=True, inferSchema=True)\n",
    "store_df = spark.read.csv('./data/store.csv', header=True, inferSchema=True)"
   ]
  },
  {
   "cell_type": "markdown",
   "metadata": {
    "collapsed": false
   },
   "source": [
    "# Домашнє завдання на тему Spark SQL\n",
    "\n",
    "Задачі з домашнього завдання на SQL потрібно розвʼязати за допомогою Spark SQL DataFrame API.\n",
    "\n",
    "- Дампи таблиць знаходяться в папці `data`. Датафрейми таблиць вже створені в клітинці вище.\n",
    "- Можете створювати стільки нових клітинок, скільки вам необхідно.\n",
    "- Розвʼязок кожної задачі має бути відображений в самому файлі (використати метод `.show()`)\n",
    "- код має бути оформлений у відповідності із одним із стилем, показаним лектором на занятті 13.\n",
    "\n",
    "**Увага!**\n",
    "Використовувати мову запитів SQL безпосередньо забороняється, потрібно використовувати виключно DataFrame API!\n"
   ]
  },
  {
   "cell_type": "markdown",
   "metadata": {
    "collapsed": false
   },
   "source": [
    "1.\n",
    "Вивести кількість фільмів в кожній категорії.\n",
    "Результат відсортувати за спаданням."
   ]
  },
  {
   "cell_type": "code",
   "execution_count": 70,
   "metadata": {
    "collapsed": false
   },
   "outputs": [
    {
     "name": "stdout",
     "output_type": "stream",
     "text": [
      "+-----------+-----------+----------+\n",
      "|category_id|       name|film_count|\n",
      "+-----------+-----------+----------+\n",
      "|         15|     Sports|        74|\n",
      "|          9|    Foreign|        73|\n",
      "|          8|     Family|        69|\n",
      "|          6|Documentary|        68|\n",
      "|          2|  Animation|        66|\n",
      "|          1|     Action|        64|\n",
      "|         13|        New|        63|\n",
      "|          7|      Drama|        62|\n",
      "|         14|     Sci-Fi|        61|\n",
      "|         10|      Games|        61|\n",
      "|          3|   Children|        60|\n",
      "|          5|     Comedy|        58|\n",
      "|          4|   Classics|        57|\n",
      "|         16|     Travel|        57|\n",
      "|         11|     Horror|        56|\n",
      "|         12|      Music|        51|\n",
      "+-----------+-----------+----------+\n",
      "\n"
     ]
    }
   ],
   "source": [
    "film_count_by_category = film_category_df.join(\n",
    "    category_df,\n",
    "    on=\"category_id\"\n",
    ").groupBy(\n",
    "    F.col(\"category_id\"),\n",
    "    F.col(\"name\"),\n",
    ").agg(\n",
    "    F.count(\"film_id\").alias(\"film_count\")\n",
    ").orderBy(\n",
    "    F.desc(\"film_count\")\n",
    ")\n",
    "\n",
    "film_count_by_category.show()"
   ]
  },
  {
   "cell_type": "markdown",
   "metadata": {
    "collapsed": false
   },
   "source": [
    "2.\n",
    "Вивести 10 акторів, чиї фільми брали на прокат найбільше.\n",
    "Результат відсортувати за спаданням."
   ]
  },
  {
   "cell_type": "code",
   "execution_count": 69,
   "metadata": {
    "collapsed": false
   },
   "outputs": [
    {
     "name": "stdout",
     "output_type": "stream",
     "text": [
      "+----------+-----------+------------+\n",
      "|first_name|  last_name|rental_count|\n",
      "+----------+-----------+------------+\n",
      "|     SUSAN|      DAVIS|         825|\n",
      "|      GINA|  DEGENERES|         753|\n",
      "|   MATTHEW|     CARREY|         678|\n",
      "|      MARY|     KEITEL|         674|\n",
      "|    ANGELA|WITHERSPOON|         654|\n",
      "|    WALTER|       TORN|         640|\n",
      "|     HENRY|      BERRY|         612|\n",
      "|     JAYNE|      NOLTE|         611|\n",
      "|       VAL|     BOLGER|         605|\n",
      "|    SANDRA|     KILMER|         604|\n",
      "|      SEAN|    GUINESS|         599|\n",
      "|    ANGELA|     HUDSON|         574|\n",
      "|  SCARLETT|      DAMON|         572|\n",
      "|      EWAN|    GOODING|         571|\n",
      "|     KEVIN|    GARLAND|         565|\n",
      "|    WARREN|      NOLTE|         564|\n",
      "|     WOODY|    HOFFMAN|         560|\n",
      "|   CAMERON|  ZELLWEGER|         560|\n",
      "|      JADA|      RYDER|         560|\n",
      "|     HELEN|     VOIGHT|         557|\n",
      "+----------+-----------+------------+\n",
      "only showing top 20 rows\n",
      "\n"
     ]
    }
   ],
   "source": [
    "most_rented_actors = actor_df.join(\n",
    "    film_actor_df,\n",
    "    on=\"actor_id\"\n",
    ").join(\n",
    "    inventory_df,\n",
    "    on=\"film_id\"\n",
    ").join(\n",
    "    rental_df,\n",
    "    on=\"inventory_id\"\n",
    ").groupBy(\n",
    "    F.col(\"first_name\"),\n",
    "    F.col(\"last_name\")\n",
    ").agg(\n",
    "    F.count(\"rental_id\").alias(\"rental_count\")\n",
    ").orderBy(\n",
    "    F.desc(\"rental_count\")\n",
    ")\n",
    "\n",
    "most_rented_actors.show()"
   ]
  },
  {
   "cell_type": "markdown",
   "metadata": {
    "collapsed": false
   },
   "source": [
    "3.\n",
    "Вивести категорія фільмів, на яку було витрачено найбільше грошей\n",
    "в прокаті"
   ]
  },
  {
   "cell_type": "code",
   "execution_count": 67,
   "metadata": {
    "collapsed": false
   },
   "outputs": [
    {
     "name": "stdout",
     "output_type": "stream",
     "text": [
      "+-----------+------------------+--------------+\n",
      "|       name|     payments_cost|payments_count|\n",
      "+-----------+------------------+--------------+\n",
      "|     Sports| 5314.209999999843|          1179|\n",
      "|     Sci-Fi| 4756.979999999873|          1101|\n",
      "|  Animation| 4656.299999999867|          1166|\n",
      "|      Drama|4587.3899999998885|          1060|\n",
      "|     Comedy| 4383.579999999895|           941|\n",
      "|     Action| 4375.849999999871|          1112|\n",
      "|        New| 4361.569999999893|           945|\n",
      "|      Games| 4281.329999999897|           969|\n",
      "|    Foreign| 4270.669999999886|          1033|\n",
      "|     Family| 4226.069999999887|          1096|\n",
      "|Documentary| 4217.519999999893|          1050|\n",
      "|     Horror| 3722.539999999919|           846|\n",
      "|   Children| 3655.549999999912|           945|\n",
      "|   Classics| 3639.589999999916|           939|\n",
      "|     Travel|3549.6399999999226|           837|\n",
      "|      Music|3417.7199999999216|           830|\n",
      "+-----------+------------------+--------------+\n",
      "\n"
     ]
    }
   ],
   "source": [
    "most_profitable_films = category_df.join(\n",
    "    film_category_df,\n",
    "    on=\"category_id\"\n",
    ").join(\n",
    "    inventory_df,\n",
    "    on=\"film_id\"\n",
    ").join(\n",
    "    rental_df,\n",
    "    on=\"inventory_id\"\n",
    ").join(\n",
    "    payment_df,\n",
    "    on=\"rental_id\"\n",
    ").groupBy(\n",
    "    category_df.name,\n",
    ").agg(\n",
    "    F.sum(\"amount\").alias(\"payments_cost\"),\n",
    "    F.count(\"amount\").alias(\"payments_count\"),\n",
    ").orderBy(\n",
    "    F.desc(\"payments_cost\")\n",
    ")\n",
    "\n",
    "most_profitable_films.show()"
   ]
  },
  {
   "cell_type": "markdown",
   "metadata": {
    "collapsed": false
   },
   "source": [
    "4.\n",
    "Вивести назви фільмів, яких не має в inventory."
   ]
  },
  {
   "cell_type": "code",
   "execution_count": 66,
   "metadata": {
    "collapsed": false
   },
   "outputs": [
    {
     "name": "stdout",
     "output_type": "stream",
     "text": [
      "+--------------------+\n",
      "|               title|\n",
      "+--------------------+\n",
      "|       RAINBOW SHOCK|\n",
      "|           GUMP DATE|\n",
      "|         HOCUS FRIDA|\n",
      "|    TREASURE COMMAND|\n",
      "| CHINATOWN GLADIATOR|\n",
      "|        WALLS ARTIST|\n",
      "|      ARGONAUTS TOWN|\n",
      "|       PSYCHO SHRUNK|\n",
      "|   FIREHOUSE VIETNAM|\n",
      "|DELIVERANCE MULHO...|\n",
      "|       ROOF CHAMPION|\n",
      "|        TADPOLE PARK|\n",
      "|         APOLLO TEEN|\n",
      "|       HATE HANDICAP|\n",
      "|       PEARL DESTINY|\n",
      "|COMMANDMENTS EXPRESS|\n",
      "|        VOLUME HOUSE|\n",
      "|     CROWDS TELEMARK|\n",
      "|   RAIDERS ANTITRUST|\n",
      "|    KILL BROTHERHOOD|\n",
      "+--------------------+\n",
      "only showing top 20 rows\n",
      "\n"
     ]
    }
   ],
   "source": [
    "missing_films = film_df.join(\n",
    "    inventory_df,\n",
    "    on=\"film_id\",\n",
    "    how=\"left\"\n",
    ").where(\n",
    "    inventory_df.film_id.isNull(),  \n",
    ").select(\n",
    "    film_df.title,\n",
    ").distinct()\n",
    "\n",
    "missing_films.show()"
   ]
  },
  {
   "cell_type": "markdown",
   "metadata": {
    "collapsed": false
   },
   "source": [
    "5.\n",
    "Вивести топ 3 актори, які найбільше зʼявлялись в категорії фільмів “Children”"
   ]
  },
  {
   "cell_type": "code",
   "execution_count": 65,
   "metadata": {
    "collapsed": false,
    "pycharm": {
     "is_executing": true
    }
   },
   "outputs": [
    {
     "name": "stdout",
     "output_type": "stream",
     "text": [
      "+----------+---------+----------+\n",
      "|first_name|last_name|film_count|\n",
      "+----------+---------+----------+\n",
      "|     HELEN|   VOIGHT|         7|\n",
      "|     SUSAN|    DAVIS|         6|\n",
      "|     RALPH|     CRUZ|         5|\n",
      "+----------+---------+----------+\n",
      "\n"
     ]
    }
   ],
   "source": [
    "top3_children_actors = actor_df.join(\n",
    "    film_actor_df,\n",
    "    on=\"actor_id\"\n",
    ").join(\n",
    "    film_category_df,\n",
    "    on=\"film_id\"\n",
    ").join(\n",
    "    category_df,\n",
    "    on=\"category_id\"\n",
    ").where(\n",
    "    F.col(\"name\") == \"Children\",\n",
    ").groupBy(\n",
    "    F.col(\"first_name\"),\n",
    "    F.col(\"last_name\"),\n",
    ").agg(\n",
    "    F.count(\"film_id\").alias(\"film_count\"),\n",
    ").orderBy(\n",
    "    F.desc(\"film_count\"),\n",
    ").limit(3)\n",
    "\n",
    "top3_children_actors.show()"
   ]
  },
  {
   "cell_type": "markdown",
   "metadata": {
    "collapsed": false
   },
   "source": [
    "Stop Spark session:"
   ]
  },
  {
   "cell_type": "code",
   "execution_count": 71,
   "metadata": {
    "collapsed": false
   },
   "outputs": [],
   "source": [
    "spark.stop()"
   ]
  }
 ],
 "metadata": {
  "kernelspec": {
   "display_name": "Python 3 (ipykernel)",
   "language": "python",
   "name": "python3"
  },
  "language_info": {
   "codemirror_mode": {
    "name": "ipython",
    "version": 3
   },
   "file_extension": ".py",
   "mimetype": "text/x-python",
   "name": "python",
   "nbconvert_exporter": "python",
   "pygments_lexer": "ipython3",
   "version": "3.10.8"
  }
 },
 "nbformat": 4,
 "nbformat_minor": 0
}
